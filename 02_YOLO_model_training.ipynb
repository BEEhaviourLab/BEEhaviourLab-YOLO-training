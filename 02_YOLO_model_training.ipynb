{
 "cells": [
  {
   "cell_type": "markdown",
   "metadata": {},
   "source": [
    "# YOLO Model Training\n",
    "\n",
    "This notebook demonstrates how to use the YOLO model training script for object detection tasks. The script supports training YOLOv8 models of various sizes on custom datasets.\n",
    "\n",
    "## Prerequisites\n",
    "\n",
    "Before running the training script, ensure you have:\n",
    "\n",
    "1. A dataset in YOLOv8 format\n",
    "2. A `data.yaml` file describing your dataset\n",
    "3. The required Python packages installed:\n",
    "   ```bash\n",
    "   pip install wandb ultralytics\n",
    "   ```\n",
    "\n",
    "Note: you will need a wandb account to use the `YOLO_model_training.py` script. Sign up at https://wandb.ai/site and save your API key for use while running the script.\n"
   ]
  },
  {
   "cell_type": "markdown",
   "metadata": {},
   "source": [
    "## Available YOLOv8 Models\n",
    "\n",
    "The script supports different YOLOv8 model sizes:\n",
    "- `yolov8n.pt` - Nano model (smallest, fastest, least accurate)\n",
    "- `yolov8s.pt` - Small model\n",
    "- `yolov8m.pt` - Medium model\n",
    "- `yolov8l.pt` - Large model\n",
    "- `yolov8x.pt` - Extra Large model (largest, slowest, most accurate)\n",
    "\n",
    "## Example Usage\n",
    "\n",
    "Here are three example configurations for different training scenarios:\n",
    "\n",
    "### 1. Quick Test Run (YOLOv8n, 10 epochs)"
   ]
  },
  {
   "cell_type": "code",
   "execution_count": null,
   "metadata": {},
   "outputs": [],
   "source": [
    "# Run here or remove the ! to run in terminal\n",
    "!python YOLO_model_training.py \\\n",
    "--project_name \"bee-detection\" \\\n",
    "--run_name \"yolov8n-test-run\" \\\n",
    "--data_yaml \"dataset/data.yaml\" \\\n",
    "--train_path \"dataset/train/images\" \\\n",
    "--val_path \"dataset/val/images\" \\\n",
    "--model_size \"n\" \\\n",
    "--epochs 10 \\\n",
    "--batch_size 8 \\\n",
    "--image_size 640"
   ]
  },
  {
   "cell_type": "markdown",
   "metadata": {},
   "source": [
    "### 2. Small Model Training (YOLOv8s, 10 epochs)"
   ]
  },
  {
   "cell_type": "code",
   "execution_count": null,
   "metadata": {},
   "outputs": [],
   "source": [
    "!python YOLO_model_training.py \\\n",
    "--project_name \"bee-detection\" \\\n",
    "--run_name \"yolov8s-training\" \\\n",
    "--data_yaml \"dataset/data.yaml\" \\\n",
    "--train_path \"dataset/train/images\" \\\n",
    "--val_path \"dataset/val/images\" \\\n",
    "--model_size \"s\" \\\n",
    "--epochs 10 \\\n",
    "--batch_size 8 \\\n",
    "--image_size 640"
   ]
  },
  {
   "cell_type": "markdown",
   "metadata": {},
   "source": [
    "### 3. Full Training Run (YOLOv8n, 100 epochs)"
   ]
  },
  {
   "cell_type": "code",
   "execution_count": null,
   "metadata": {},
   "outputs": [],
   "source": [
    "!python YOLO_model_training.py \\\n",
    "--project_name \"bee-detection\" \\\n",
    "--run_name \"yolov8n-full-training\" \\\n",
    "--data_yaml \"dataset/data.yaml\" \\\n",
    "--train_path \"dataset/train/images\" \\\n",
    "--val_path \"dataset/val/images\" \\\n",
    "--model_size \"n\" \\\n",
    "--epochs 100 \\\n",
    "--batch_size 8 \\\n",
    "--image_size 640"
   ]
  },
  {
   "cell_type": "markdown",
   "metadata": {},
   "source": [
    "## Parameter Descriptions\n",
    "\n",
    "- `--project_name`: Name of your Weights & Biases project\n",
    "- `--run_name`: Name of this specific training run\n",
    "- `--data_yaml`: Path to your YOLO format data.yaml file\n",
    "- `--train_path`: Path to your training images directory\n",
    "- `--val_path`: Path to your validation images directory\n",
    "- `--model_size`: YOLOv8 model size (n/s/m/l/x)\n",
    "- `--epochs`: Number of training epochs (default: 100)\n",
    "- `--batch_size`: Training batch size (default: 16)\n",
    "- `--image_size`: Input image size (default: 640)\n",
    "\n",
    "## Notes\n",
    "\n",
    "- The script automatically uses GPU if available, falling back to MPS (on Mac) or CPU if not\n",
    "- Training progress is logged to Weights & Biases\n",
    "- Model checkpoints are saved every 10 epochs\n",
    "- The script performs validation checks on your dataset before training"
   ]
  },
  {
   "cell_type": "markdown",
   "metadata": {},
   "source": [
    "## Model Comparison\n",
    "Let's compare the performance of different YOLO models we've trained. We'll create visualizations and metrics comparisons using the training results."
   ]
  },
  {
   "cell_type": "code",
   "execution_count": null,
   "metadata": {},
   "outputs": [],
   "source": [
    "# Define paths for test image and models\n",
    "test_image = \"dataset/val/images/example_test_image.jpg\"  # Replace with your test image\n",
    "model_paths = [\n",
    "    'runs/detect/train5/weights/best.pt',\n",
    "    'runs/detect/train6/weights/best.pt',\n",
    "    'runs/detect/train7/weights/best.pt'\n",
    "]\n",
    "\n",
    "# Compare model predictions\n",
    "try:\n",
    "    compare_model_predictions(model_paths, test_image)\n",
    "except Exception as e:\n",
    "    print(f\"Error comparing predictions: {e}\")"
   ]
  }
 ],
 "metadata": {
  "kernelspec": {
   "display_name": "yolo_training_enviro",
   "language": "python",
   "name": "python3"
  },
  "language_info": {
   "name": "python",
   "version": "3.11.9"
  }
 },
 "nbformat": 4,
 "nbformat_minor": 2
}
