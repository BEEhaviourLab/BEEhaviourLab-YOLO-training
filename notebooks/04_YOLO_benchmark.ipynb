{
 "cells": [
  {
   "cell_type": "markdown",
   "id": "6232d5c7",
   "metadata": {},
   "source": [
    "# YOLO Model Benchmarking Notebook\n",
    "This notebook demonstrates how to benchmark the YOLO models on new datasets. \n",
    "\n",
    "It can be used to test a model on new data, or to output new visualizations of a model on it's validation data.\n",
    "\n",
    "## Features\n",
    "- **Flexible data selection**: Choose between validation-only (`val`) or all data (`all`) modes\n",
    "- **Comprehensive metrics**: Precision, recall, F1-score, and per-class performance\n",
    "- **Multiple model support**: Test different YOLO models on the same dataset\n",
    "- **Visualization**: Charts and graphs for easy result interpretation\n",
    "- **Results export**: Save results to JSON files for further analysis"
   ]
  },
  {
   "cell_type": "markdown",
   "id": "51f55f41",
   "metadata": {},
   "source": [
    "## Setup and Imports"
   ]
  },
  {
   "cell_type": "code",
   "execution_count": 3,
   "id": "e1549a5f",
   "metadata": {},
   "outputs": [
    {
     "name": "stdout",
     "output_type": "stream",
     "text": [
      "Project root: /Users/user/Documents/BEEhaviourLab/BEEhaviourLab-YOLO-training\n",
      "BeeYOLO path: /Users/user/Documents/BEEhaviourLab/BEEhaviourLab-YOLO-training/beeyolo\n",
      "Current working directory: /Users/user/Documents/BEEhaviourLab/BEEhaviourLab-YOLO-training/notebooks\n",
      "Models directory exists: True\n",
      "Datasets directory exists: True\n"
     ]
    }
   ],
   "source": [
    "import sys\n",
    "import os\n",
    "from pathlib import Path\n",
    "\n",
    "# Add the beeyolo directory to the path so we can import our modules\n",
    "notebook_dir = Path.cwd()\n",
    "project_root = notebook_dir.parent\n",
    "beeyolo_path = project_root / \"beeyolo\"\n",
    "sys.path.insert(0, str(beeyolo_path))\n",
    "\n",
    "# Now import our benchmark module\n",
    "from benchmark_YOLO import YOLOBenchmark\n",
    "\n",
    "# Standard data science imports\n",
    "import pandas as pd\n",
    "import numpy as np\n",
    "import matplotlib.pyplot as plt\n",
    "import seaborn as sns\n",
    "from datetime import datetime\n",
    "\n",
    "# Set up plotting style\n",
    "plt.style.use('default')\n",
    "sns.set_palette(\"husl\")\n",
    "plt.rcParams['figure.figsize'] = (12, 8)\n",
    "\n",
    "print(f\"Project root: {project_root}\")\n",
    "print(f\"BeeYOLO path: {beeyolo_path}\")\n",
    "print(f\"Current working directory: {notebook_dir}\")\n",
    "\n",
    "# Check if directories exist\n",
    "models_dir = project_root / \"models\"\n",
    "datasets_dir = project_root / \"datasets\"\n",
    "\n",
    "print(f\"Models directory exists: {models_dir.exists()}\")\n",
    "print(f\"Datasets directory exists: {datasets_dir.exists()}\")"
   ]
  },
  {
   "cell_type": "markdown",
   "id": "a7958468",
   "metadata": {},
   "source": [
    "## Initialize the Benchmark"
   ]
  },
  {
   "cell_type": "code",
   "execution_count": 4,
   "id": "ba2002c4",
   "metadata": {},
   "outputs": [
    {
     "name": "stdout",
     "output_type": "stream",
     "text": [
      "Initializing YOLO Benchmark...\n",
      "✓ Benchmark initialized successfully!\n"
     ]
    }
   ],
   "source": [
    "# Initialize the benchmark with correct paths\n",
    "print(\"Initializing YOLO Benchmark...\")\n",
    "benchmark = YOLOBenchmark(\n",
    "    models_dir=str(project_root / \"models\"),\n",
    "    datasets_dir=str(project_root / \"datasets\")\n",
    ")\n",
    "print(\"✓ Benchmark initialized successfully!\")"
   ]
  },
  {
   "cell_type": "markdown",
   "id": "478aca9b",
   "metadata": {},
   "source": [
    "## Explore available models and datasets"
   ]
  },
  {
   "cell_type": "code",
   "execution_count": 5,
   "id": "f031de21",
   "metadata": {},
   "outputs": [
    {
     "name": "stdout",
     "output_type": "stream",
     "text": [
      "📁 Available Models:\n",
      "  1. mortality-classYOLO\n",
      "  2. beeYOLO\n",
      "\n",
      "�� Available Datasets:\n",
      "  1. bee-feeder-data\n",
      "     Classes: 2 - bee, feeder\n",
      "  2. alive-dead-data\n",
      "     Classes: 3 - bee_alive, bee_dead, feeder\n",
      "  3. hoverfly-data\n",
      "     Classes: 2 - bee, feeder\n"
     ]
    }
   ],
   "source": [
    "# Get available models and datasets\n",
    "models = benchmark.get_available_models()\n",
    "datasets = benchmark.get_available_datasets()\n",
    "\n",
    "print(\"📁 Available Models:\")\n",
    "for i, model in enumerate(models, 1):\n",
    "    print(f\"  {i}. {model}\")\n",
    "\n",
    "print(f\"\\n�� Available Datasets:\")\n",
    "for i, dataset in enumerate(datasets, 1):\n",
    "    print(f\"  {i}. {dataset}\")\n",
    "    \n",
    "    # Show dataset info\n",
    "    try:\n",
    "        config = benchmark.load_dataset_info(dataset)\n",
    "        print(f\"     Classes: {config['nc']} - {', '.join(config['names'])}\")\n",
    "    except Exception as e:\n",
    "        print(f\"     Error loading config: {e}\")"
   ]
  },
  {
   "cell_type": "markdown",
   "id": "2cb15b4d",
   "metadata": {},
   "source": [
    "## Dataset information and statistics"
   ]
  },
  {
   "cell_type": "code",
   "execution_count": 6,
   "id": "7df22d35",
   "metadata": {},
   "outputs": [
    {
     "data": {
      "text/html": [
       "<div>\n",
       "<style scoped>\n",
       "    .dataframe tbody tr th:only-of-type {\n",
       "        vertical-align: middle;\n",
       "    }\n",
       "\n",
       "    .dataframe tbody tr th {\n",
       "        vertical-align: top;\n",
       "    }\n",
       "\n",
       "    .dataframe thead th {\n",
       "        text-align: right;\n",
       "    }\n",
       "</style>\n",
       "<table border=\"1\" class=\"dataframe\">\n",
       "  <thead>\n",
       "    <tr style=\"text-align: right;\">\n",
       "      <th></th>\n",
       "      <th>Val Images</th>\n",
       "      <th>Val Labels</th>\n",
       "      <th>All Images</th>\n",
       "      <th>All Labels</th>\n",
       "    </tr>\n",
       "  </thead>\n",
       "  <tbody>\n",
       "    <tr>\n",
       "      <th>bee-feeder-data</th>\n",
       "      <td>30</td>\n",
       "      <td>30</td>\n",
       "      <td>150</td>\n",
       "      <td>150</td>\n",
       "    </tr>\n",
       "    <tr>\n",
       "      <th>alive-dead-data</th>\n",
       "      <td>50</td>\n",
       "      <td>49</td>\n",
       "      <td>205</td>\n",
       "      <td>204</td>\n",
       "    </tr>\n",
       "    <tr>\n",
       "      <th>hoverfly-data</th>\n",
       "      <td>38</td>\n",
       "      <td>38</td>\n",
       "      <td>113</td>\n",
       "      <td>113</td>\n",
       "    </tr>\n",
       "  </tbody>\n",
       "</table>\n",
       "</div>"
      ],
      "text/plain": [
       "                 Val Images  Val Labels  All Images  All Labels\n",
       "bee-feeder-data          30          30         150         150\n",
       "alive-dead-data          50          49         205         204\n",
       "hoverfly-data            38          38         113         113"
      ]
     },
     "metadata": {},
     "output_type": "display_data"
    }
   ],
   "source": [
    "# Analyze dataset statistics\n",
    "dataset_stats = {}\n",
    "\n",
    "for dataset_name in datasets:\n",
    "    try:\n",
    "        # Get validation data stats\n",
    "        val_images, val_labels = benchmark.get_dataset_images_and_labels(dataset_name, \"val\")\n",
    "        \n",
    "        # Get all data stats\n",
    "        all_images, all_labels = benchmark.get_dataset_images_and_labels(dataset_name, \"all\")\n",
    "        \n",
    "        dataset_stats[dataset_name] = {\n",
    "            'val_images': len(val_images),\n",
    "            'val_labels': len(val_labels),\n",
    "            'all_images': len(all_images),\n",
    "            'all_labels': len(all_labels)\n",
    "        }\n",
    "    except Exception as e:\n",
    "        print(f\"Error processing {dataset_name}: {e}\")\n",
    "\n",
    "# Display as a table\n",
    "if dataset_stats:\n",
    "    df_stats = pd.DataFrame(dataset_stats).T\n",
    "    df_stats.columns = ['Val Images', 'Val Labels', 'All Images', 'All Labels']\n",
    "    display(df_stats)\n",
    "else:\n",
    "    print(\"No dataset statistics available\")"
   ]
  },
  {
   "cell_type": "markdown",
   "id": "7a0b0498",
   "metadata": {},
   "source": [
    "## Example 1: Benchmark on Validation Data Only\n",
    "This demonstrates the standard evaluation mode using only validation data."
   ]
  },
  {
   "cell_type": "code",
   "execution_count": 8,
   "id": "36b801ba",
   "metadata": {},
   "outputs": [
    {
     "name": "stdout",
     "output_type": "stream",
     "text": [
      "Running benchmark on validation data only...\n",
      "Model: beeYOLO\n",
      "Dataset: hoverfly-data\n",
      "Mode: val (validation only)\n",
      "Evaluating model /Users/user/Documents/BEEhaviourLab/BEEhaviourLab-YOLO-training/models/beeYOLO.pt on dataset hoverfly-data (val mode)\n",
      "Found 38 images to evaluate\n"
     ]
    },
    {
     "name": "stderr",
     "output_type": "stream",
     "text": [
      "Processing images:   0%|          | 0/38 [00:00<?, ?it/s]"
     ]
    },
    {
     "name": "stdout",
     "output_type": "stream",
     "text": [
      "Debug: First image dimensions: 1920x1080\n",
      "Debug: First GT label format: [0, 0.258854, 0.783333, 0.085417, 0.148148]\n"
     ]
    },
    {
     "name": "stderr",
     "output_type": "stream",
     "text": [
      "Processing images:   8%|▊         | 3/38 [00:01<00:14,  2.34it/s]"
     ]
    },
    {
     "name": "stdout",
     "output_type": "stream",
     "text": [
      "Debug: First detection format: [0, np.float32(490.0893), np.float32(847.4977), np.float32(146.88245), np.float32(160.90063), array(    0.88237, dtype=float32)]\n",
      "Debug: Comparing detection [0, np.float32(490.0893), np.float32(847.4977), np.float32(146.88245), np.float32(160.90063), array(    0.88237, dtype=float32)] with GT [0, 496.99967999999996, 845.9996399999999, 164.00064, 159.99984]\n",
      "Warning: Non-numeric coordinates - box1: [0, np.float32(490.0893), np.float32(847.4977), np.float32(146.88245), np.float32(160.90063), array(    0.88237, dtype=float32)], box2: [0, 496.99967999999996, 845.9996399999999, 164.00064, 159.99984]\n",
      "Warning: Non-numeric coordinates - box1: [1, np.float32(1517.6904), np.float32(198.8182), np.float32(237.67932), np.float32(275.2801), array(    0.56781, dtype=float32)], box2: [1, 1552.5004800000002, 183.9996, 196.99968, 187.99992]\n",
      "Warning: Non-numeric coordinates - box1: [0, np.float32(979.76917), np.float32(223.67204), np.float32(167.82477), np.float32(96.82718), array(    0.84549, dtype=float32)], box2: [0, 979.00032, 209.49947999999998, 153.99936, 118.99980000000001]\n",
      "Warning: Non-numeric coordinates - box1: [0, np.float32(1199.3577), np.float32(230.71594), np.float32(172.92346), np.float32(117.429504), array(    0.88032, dtype=float32)], box2: [0, 1194.0, 228.99996000000002, 168.0, 119.99988]\n",
      "Warning: Non-numeric coordinates - box1: [1, np.float32(1491.6477), np.float32(265.4342), np.float32(178.85779), np.float32(213.49869), array(    0.52874, dtype=float32)], box2: [1, 1493.5008, 321.99984, 237.00096000000002, 253.9998]\n"
     ]
    },
    {
     "name": "stderr",
     "output_type": "stream",
     "text": [
      "Processing images:  13%|█▎        | 5/38 [00:01<00:08,  4.11it/s]"
     ]
    },
    {
     "name": "stdout",
     "output_type": "stream",
     "text": [
      "Warning: Non-numeric coordinates - box1: [0, np.float32(1262.8889), np.float32(235.22452), np.float32(172.55164), np.float32(119.46295), array(    0.90597, dtype=float32)], box2: [0, 1250.4998400000002, 235.00044, 175.00032000000002, 124.0002]\n",
      "Warning: Non-numeric coordinates - box1: [0, np.float32(1351.991), np.float32(275.1983), np.float32(99.368774), np.float32(105.821945), array(    0.82339, dtype=float32)], box2: [0, 1359.99936, 279.49968, 116.00064, 104.99976000000001]\n",
      "Warning: Non-numeric coordinates - box1: [0, np.float32(1367.8496), np.float32(298.52673), np.float32(96.265625), np.float32(110.60855), array(    0.80428, dtype=float32)], box2: [0, 1363.49952, 321.4998, 109.00032, 142.99956]\n"
     ]
    },
    {
     "name": "stderr",
     "output_type": "stream",
     "text": [
      "Processing images:  24%|██▎       | 9/38 [00:01<00:03,  7.72it/s]"
     ]
    },
    {
     "name": "stdout",
     "output_type": "stream",
     "text": [
      "Warning: Non-numeric coordinates - box1: [0, np.float32(1120.497), np.float32(502.5636), np.float32(159.94043), np.float32(160.38235), array(    0.83003, dtype=float32)], box2: [0, 1116.0, 503.00028000000003, 165.99936, 157.99968]\n",
      "Warning: Non-numeric coordinates - box1: [1, np.float32(1518.0015), np.float32(198.42401), np.float32(241.21692), np.float32(275.7528), array(     0.6033, dtype=float32)], box2: [1, 1554.4992, 181.50048, 196.99968, 196.99956]\n",
      "Warning: Non-numeric coordinates - box1: [0, np.float32(1119.4602), np.float32(504.45154), np.float32(162.25146), np.float32(165.15579), array(    0.83742, dtype=float32)], box2: [0, 1117.00032, 500.00004, 164.00064, 154.00044]\n",
      "Warning: Non-numeric coordinates - box1: [1, np.float32(1517.3563), np.float32(199.00621), np.float32(241.11035), np.float32(277.06027), array(    0.56404, dtype=float32)], box2: [1, 1553.5008, 185.49972, 199.00032000000002, 198.99972]\n",
      "Warning: Non-numeric coordinates - box1: [0, np.float32(1407.9086), np.float32(370.94012), np.float32(149.66968), np.float32(164.9339), array(    0.84963, dtype=float32)], box2: [0, 1419.5001599999998, 371.00052, 171.00096000000002, 147.99996]\n",
      "Warning: Non-numeric coordinates - box1: [0, np.float32(1408.3792), np.float32(373.58826), np.float32(156.03296), np.float32(170.91586), array(    0.83752, dtype=float32)], box2: [0, 1413.50016, 377.49996, 163.00032, 156.9996]\n"
     ]
    },
    {
     "name": "stderr",
     "output_type": "stream",
     "text": [
      "Processing images:  34%|███▍      | 13/38 [00:02<00:02, 10.44it/s]"
     ]
    },
    {
     "name": "stdout",
     "output_type": "stream",
     "text": [
      "Warning: Non-numeric coordinates - box1: [0, np.float32(1502.8088), np.float32(376.6974), np.float32(175.12903), np.float32(114.77161), array(    0.80504, dtype=float32)], box2: [0, 1505.5008, 370.00043999999997, 178.99968, 115.99956]\n",
      "Warning: Non-numeric coordinates - box1: [0, np.float32(1571.391), np.float32(369.9795), np.float32(178.12134), np.float32(121.26126), array(    0.75886, dtype=float32)], box2: [0, 1563.50016, 361.49976000000004, 201.00096000000002, 153.00036]\n"
     ]
    },
    {
     "name": "stderr",
     "output_type": "stream",
     "text": [
      "Processing images:  45%|████▍     | 17/38 [00:02<00:01, 12.46it/s]"
     ]
    },
    {
     "name": "stdout",
     "output_type": "stream",
     "text": [
      "Warning: Non-numeric coordinates - box1: [0, np.float32(1119.5747), np.float32(502.71246), np.float32(161.68579), np.float32(160.95114), array(    0.85464, dtype=float32)], box2: [0, 1118.49984, 504.00036, 166.99968, 155.99952]\n",
      "Warning: Non-numeric coordinates - box1: [1, np.float32(1518.2517), np.float32(198.14664), np.float32(240.24036), np.float32(275.2636), array(    0.56721, dtype=float32)], box2: [1, 1553.5008, 184.49964, 199.00032000000002, 198.99972]\n",
      "Warning: Non-numeric coordinates - box1: [0, np.float32(1455.931), np.float32(307.8897), np.float32(202.38647), np.float32(167.38596), array(     0.8073, dtype=float32)], box2: [0, 1489.00032, 309.99996, 212.00064, 183.9996]\n",
      "Warning: Non-numeric coordinates - box1: [0, np.float32(1390.0078), np.float32(281.2292), np.float32(137.95093), np.float32(145.8229), array(    0.85091, dtype=float32)], box2: [0, 1387.4995199999998, 289.00044, 115.00032, 162.0]\n"
     ]
    },
    {
     "name": "stderr",
     "output_type": "stream",
     "text": [
      "Processing images:  50%|█████     | 19/38 [00:02<00:01, 13.05it/s]"
     ]
    },
    {
     "name": "stdout",
     "output_type": "stream",
     "text": [
      "Warning: Non-numeric coordinates - box1: [0, np.float32(1370.8561), np.float32(346.07053), np.float32(136.1543), np.float32(124.6615), array(    0.65372, dtype=float32)], box2: [0, 1368.0, 350.49996000000004, 123.99936, 132.99984]\n",
      "Warning: Non-numeric coordinates - box1: [0, np.float32(1120.3657), np.float32(503.44684), np.float32(158.08264), np.float32(158.66016), array(    0.85997, dtype=float32)], box2: [0, 1114.9996800000001, 502.50024, 159.99936, 153.00036]\n",
      "Warning: Non-numeric coordinates - box1: [1, np.float32(1519.3256), np.float32(197.51646), np.float32(237.927), np.float32(276.0665), array(    0.56046, dtype=float32)], box2: [1, 1551.50016, 179.50032, 194.99904, 200.99988]\n",
      "Warning: Non-numeric coordinates - box1: [0, np.float32(1303.1497), np.float32(359.12103), np.float32(168.07593), np.float32(106.60904), array(    0.84547, dtype=float32)], box2: [0, 1306.50048, 355.00032, 178.99968, 112.00032]\n",
      "Warning: Non-numeric coordinates - box1: [1, np.float32(1491.38), np.float32(246.46008), np.float32(180.12354), np.float32(248.35506), array(    0.53174, dtype=float32)], box2: [1, 1483.0003199999999, 324.0, 237.99936, 249.99948]\n"
     ]
    },
    {
     "name": "stderr",
     "output_type": "stream",
     "text": [
      "Processing images:  61%|██████    | 23/38 [00:02<00:01, 13.68it/s]"
     ]
    },
    {
     "name": "stdout",
     "output_type": "stream",
     "text": [
      "Warning: Non-numeric coordinates - box1: [0, np.float32(1288.5369), np.float32(362.01312), np.float32(163.47766), np.float32(126.814545), array(    0.83649, dtype=float32)], box2: [0, 1302.0, 358.49952, 188.00064, 130.99968]\n",
      "Warning: Non-numeric coordinates - box1: [1, np.float32(1490.6013), np.float32(247.55069), np.float32(180.14001), np.float32(247.89874), array(    0.50235, dtype=float32)], box2: [1, 1490.4998400000002, 319.99968, 242.99904, 253.9998]\n",
      "Warning: Non-numeric coordinates - box1: [0, np.float32(1282.644), np.float32(360.62476), np.float32(168.79321), np.float32(117.25397), array(    0.87549, dtype=float32)], box2: [0, 1290.4992, 361.9998, 181.00032, 122.00004]\n",
      "Warning: Non-numeric coordinates - box1: [0, np.float32(1205.8757), np.float32(371.25266), np.float32(170.88757), np.float32(107.99707), array(     0.8858, dtype=float32)], box2: [0, 1207.00032, 378.50004, 164.00064, 141.00048]\n"
     ]
    },
    {
     "name": "stderr",
     "output_type": "stream",
     "text": [
      "Processing images:  66%|██████▌   | 25/38 [00:03<00:00, 14.08it/s]"
     ]
    },
    {
     "name": "stdout",
     "output_type": "stream",
     "text": [
      "Warning: Non-numeric coordinates - box1: [0, np.float32(1055.3687), np.float32(326.2127), np.float32(177.81866), np.float32(119.87668), array(    0.80973, dtype=float32)], box2: [0, 1054.50048, 331.49952, 171.00096000000002, 128.99952]\n",
      "Warning: Non-numeric coordinates - box1: [0, np.float32(1119.9446), np.float32(505.28992), np.float32(159.74854), np.float32(162.931), array(    0.85474, dtype=float32)], box2: [0, 1114.9996800000001, 503.00028000000003, 164.00064, 154.00044]\n",
      "Warning: Non-numeric coordinates - box1: [1, np.float32(1516.8411), np.float32(199.59442), np.float32(242.82507), np.float32(276.64758), array(    0.54288, dtype=float32)], box2: [1, 1555.49952, 185.99975999999998, 194.99904, 192.00024]\n",
      "Warning: Non-numeric coordinates - box1: [0, np.float32(1124.6348), np.float32(519.50977), np.float32(158.99817), np.float32(151.26285), array(    0.76462, dtype=float32)], box2: [0, 1120.50048, 513.0, 158.99903999999998, 157.99968]\n",
      "Warning: Non-numeric coordinates - box1: [1, np.float32(1516.6473), np.float32(198.30634), np.float32(242.27344), np.float32(277.26508), array(    0.52921, dtype=float32)], box2: [1, 1549.49952, 183.9996, 202.99968, 176.00003999999998]\n"
     ]
    },
    {
     "name": "stderr",
     "output_type": "stream",
     "text": [
      "Processing images:  76%|███████▋  | 29/38 [00:03<00:00, 14.44it/s]"
     ]
    },
    {
     "name": "stdout",
     "output_type": "stream",
     "text": [
      "Warning: Non-numeric coordinates - box1: [0, np.float32(1156.0923), np.float32(514.5921), np.float32(178.08875), np.float32(115.124176), array(    0.89154, dtype=float32)], box2: [0, 1150.50048, 513.0, 171.00096000000002, 119.99988]\n",
      "Warning: Non-numeric coordinates - box1: [1, np.float32(1516.6792), np.float32(198.71039), np.float32(240.12085), np.float32(277.51703), array(    0.52226, dtype=float32)], box2: [1, 1549.00032, 186.99984, 186.0, 190.00008]\n",
      "Warning: Non-numeric coordinates - box1: [0, np.float32(1159.522), np.float32(524.5664), np.float32(172.95667), np.float32(123.395874), array(    0.86409, dtype=float32)], box2: [0, 1153.49952, 528.00012, 169.00032000000002, 124.0002]\n",
      "Warning: Non-numeric coordinates - box1: [1, np.float32(1516.9193), np.float32(198.74307), np.float32(239.64111), np.float32(278.0412), array(    0.56227, dtype=float32)], box2: [1, 1550.00064, 187.99992, 188.00064, 183.9996]\n",
      "Warning: Non-numeric coordinates - box1: [0, np.float32(1080.3568), np.float32(392.64633), np.float32(179.81079), np.float32(138.36182), array(    0.84749, dtype=float32)], box2: [0, 1093.49952, 397.00044, 181.00032, 126.00036]\n",
      "Warning: Non-numeric coordinates - box1: [1, np.float32(1517.2307), np.float32(199.55124), np.float32(242.35144), np.float32(276.66406), array(    0.53134, dtype=float32)], box2: [1, 1546.9996800000001, 182.00052, 189.99936, 192.00024]\n"
     ]
    },
    {
     "name": "stderr",
     "output_type": "stream",
     "text": [
      "Processing images:  82%|████████▏ | 31/38 [00:03<00:00, 14.59it/s]"
     ]
    },
    {
     "name": "stdout",
     "output_type": "stream",
     "text": [
      "Warning: Non-numeric coordinates - box1: [0, np.float32(1009.6608), np.float32(393.1261), np.float32(167.6742), np.float32(135.2363), array(    0.80967, dtype=float32)], box2: [0, 1022.00064, 404.49996, 176.00064, 137.00016]\n",
      "Warning: Non-numeric coordinates - box1: [1, np.float32(1517.3235), np.float32(199.1679), np.float32(241.88403), np.float32(275.59305), array(    0.51415, dtype=float32)], box2: [1, 1549.49952, 186.99984, 194.99904, 185.99975999999998]\n",
      "Warning: Non-numeric coordinates - box1: [0, np.float32(1259.4579), np.float32(904.67554), np.float32(136.69287), np.float32(102.2785), array(    0.80406, dtype=float32)], box2: [0, 1284.0, 908.00028, 194.00064, 126.00036]\n",
      "Warning: Non-numeric coordinates - box1: [1, np.float32(1517.1914), np.float32(197.956), np.float32(245.21704), np.float32(275.68213), array(     0.5933, dtype=float32)], box2: [1, 1551.99936, 184.99968, 188.00064, 197.99964]\n",
      "Warning: Non-numeric coordinates - box1: [0, np.float32(779.179), np.float32(860.3224), np.float32(178.35718), np.float32(109.91876), array(    0.63989, dtype=float32)], box2: [0, 786.4992000000001, 866.5002, 171.00096000000002, 111.00023999999999]\n",
      "Warning: Non-numeric coordinates - box1: [1, np.float32(1516.9847), np.float32(197.96736), np.float32(244.427), np.float32(275.23434), array(    0.60139, dtype=float32)], box2: [1, 1551.50016, 186.99984, 190.99967999999998, 185.99975999999998]\n",
      "Warning: Non-numeric coordinates - box1: [0, np.float32(247.1341), np.float32(727.00134), np.float32(118.381714), np.float32(182.7398), array(    0.73016, dtype=float32)], box2: [0, 242.49984, 724.99968, 127.00031999999999, 195.99948]\n",
      "Warning: Non-numeric coordinates - box1: [1, np.float32(1516.8812), np.float32(197.58984), np.float32(244.64429), np.float32(276.9273), array(    0.59545, dtype=float32)], box2: [1, 1544.49984, 191.00016000000002, 202.99968, 185.99975999999998]\n"
     ]
    },
    {
     "name": "stderr",
     "output_type": "stream",
     "text": [
      "Processing images:  97%|█████████▋| 37/38 [00:03<00:00, 14.83it/s]"
     ]
    },
    {
     "name": "stdout",
     "output_type": "stream",
     "text": [
      "Warning: Non-numeric coordinates - box1: [0, np.float32(228.57553), np.float32(749.95844), np.float32(125.92418), np.float32(176.05994), array(    0.68133, dtype=float32)], box2: [0, 229.49952, 745.50024, 139.00032000000002, 195.00047999999998]\n",
      "Warning: Non-numeric coordinates - box1: [1, np.float32(1516.7427), np.float32(198.03534), np.float32(244.64172), np.float32(275.28046), array(    0.62033, dtype=float32)], box2: [1, 1553.5008, 185.99975999999998, 190.99967999999998, 195.99948]\n",
      "Warning: Non-numeric coordinates - box1: [0, np.float32(263.799), np.float32(903.171), np.float32(171.82681), np.float32(177.23035), array(    0.62165, dtype=float32)], box2: [0, 244.99967999999998, 904.5, 186.0, 196.99956]\n",
      "Warning: Non-numeric coordinates - box1: [1, np.float32(1517.2659), np.float32(197.70471), np.float32(240.81555), np.float32(274.36493), array(    0.55869, dtype=float32)], box2: [1, 1560.0, 186.99984, 216.0, 194.0004]\n",
      "Warning: Non-numeric coordinates - box1: [0, np.float32(460.05405), np.float32(913.04425), np.float32(209.3421), np.float32(101.52136), array(    0.71074, dtype=float32)], box2: [0, 458.49983999999995, 922.00032, 190.99967999999998, 124.0002]\n",
      "Warning: Non-numeric coordinates - box1: [1, np.float32(1517.8972), np.float32(197.25017), np.float32(239.14734), np.float32(275.56223), array(    0.53267, dtype=float32)], box2: [1, 1556.49984, 181.50048, 196.99968, 196.99956]\n",
      "Warning: Non-numeric coordinates - box1: [0, np.float32(614.5304), np.float32(891.51874), np.float32(177.18652), np.float32(94.6875), array(    0.75331, dtype=float32)], box2: [0, 613.4995200000001, 898.4995200000001, 201.00096000000002, 111.00023999999999]\n",
      "Warning: Non-numeric coordinates - box1: [1, np.float32(1516.7639), np.float32(196.91608), np.float32(241.45923), np.float32(275.46643), array(    0.52465, dtype=float32)], box2: [1, 1551.00096, 184.99968, 189.99936, 194.0004]\n"
     ]
    },
    {
     "name": "stderr",
     "output_type": "stream",
     "text": [
      "Processing images: 100%|██████████| 38/38 [00:03<00:00,  9.60it/s]"
     ]
    },
    {
     "name": "stdout",
     "output_type": "stream",
     "text": [
      "Warning: Non-numeric coordinates - box1: [0, np.float32(574.69446), np.float32(872.729), np.float32(147.22272), np.float32(135.49255), array(    0.77796, dtype=float32)], box2: [0, 577.4995200000001, 878.00004, 175.00032000000002, 129.99960000000002]\n",
      "Warning: Non-numeric coordinates - box1: [1, np.float32(1516.9413), np.float32(197.51297), np.float32(241.76733), np.float32(274.07), array(    0.55439, dtype=float32)], box2: [1, 1553.5008, 186.4998, 194.99904, 196.99956]\n",
      "Benchmark completed!\n"
     ]
    },
    {
     "name": "stderr",
     "output_type": "stream",
     "text": [
      "\n"
     ]
    }
   ],
   "source": [
    "# Choose a model and dataset for this example\n",
    "if models and datasets:\n",
    "    model_name = models[1]  # First available model\n",
    "    dataset_name = datasets[2]  # Hoverfly dataset\n",
    "    \n",
    "    print(f\"Running benchmark on validation data only...\")\n",
    "    print(f\"Model: {model_name}\")\n",
    "    print(f\"Dataset: {dataset_name}\")\n",
    "    print(f\"Mode: val (validation only)\")\n",
    "    \n",
    "    # Run benchmark\n",
    "    results_val = benchmark.run_benchmark(\n",
    "        model_name=model_name,\n",
    "        dataset_name=dataset_name,\n",
    "        mode=\"val\",\n",
    "        conf_threshold=0.5,\n",
    "        iou_threshold=0.5\n",
    "    )\n",
    "    \n",
    "    print(\"Benchmark completed!\")\n",
    "    \n",
    "else:\n",
    "    print(\"No models or datasets found!\")"
   ]
  },
  {
   "cell_type": "markdown",
   "id": "f4e5a01d",
   "metadata": {},
   "source": [
    "## Display Validation Results"
   ]
  },
  {
   "cell_type": "code",
   "execution_count": 9,
   "id": "ad9efd9f",
   "metadata": {},
   "outputs": [
    {
     "name": "stdout",
     "output_type": "stream",
     "text": [
      "\n",
      "================================================================================\n",
      "BENCHMARK RESULTS\n",
      "================================================================================\n",
      "Model: /Users/user/Documents/BEEhaviourLab/BEEhaviourLab-YOLO-training/models/beeYOLO.pt\n",
      "Dataset: hoverfly-data\n",
      "Mode: val\n",
      "Total Images: 38\n",
      "Total Ground Truth: 76\n",
      "Total Detections: 58\n",
      "Total Correct: 0\n",
      "Confidence Threshold: 0.5\n",
      "IoU Threshold: 0.5\n",
      "\n",
      "Overall Metrics:\n",
      "  Precision: 0.0000\n",
      "  Recall: 0.0000\n",
      "  F1-Score: 0.0000\n",
      "\n",
      "Per-Class Metrics:\n",
      "  bee:\n",
      "    Precision: 0.0000\n",
      "    Recall: 0.0000\n",
      "    F1-Score: 0.0000\n",
      "    TP: 0, FP: 36, FN: 38\n",
      "  feeder:\n",
      "    Precision: 0.0000\n",
      "    Recall: 0.0000\n",
      "    F1-Score: 0.0000\n",
      "    TP: 0, FP: 22, FN: 38\n",
      "================================================================================\n"
     ]
    },
    {
     "data": {
      "text/html": [
       "<div>\n",
       "<style scoped>\n",
       "    .dataframe tbody tr th:only-of-type {\n",
       "        vertical-align: middle;\n",
       "    }\n",
       "\n",
       "    .dataframe tbody tr th {\n",
       "        vertical-align: top;\n",
       "    }\n",
       "\n",
       "    .dataframe thead th {\n",
       "        text-align: right;\n",
       "    }\n",
       "</style>\n",
       "<table border=\"1\" class=\"dataframe\">\n",
       "  <thead>\n",
       "    <tr style=\"text-align: right;\">\n",
       "      <th></th>\n",
       "      <th>Metric</th>\n",
       "      <th>Value</th>\n",
       "    </tr>\n",
       "  </thead>\n",
       "  <tbody>\n",
       "    <tr>\n",
       "      <th>0</th>\n",
       "      <td>Precision</td>\n",
       "      <td>0.0</td>\n",
       "    </tr>\n",
       "    <tr>\n",
       "      <th>1</th>\n",
       "      <td>Recall</td>\n",
       "      <td>0.0</td>\n",
       "    </tr>\n",
       "    <tr>\n",
       "      <th>2</th>\n",
       "      <td>F1-Score</td>\n",
       "      <td>0.0</td>\n",
       "    </tr>\n",
       "  </tbody>\n",
       "</table>\n",
       "</div>"
      ],
      "text/plain": [
       "      Metric  Value\n",
       "0  Precision    0.0\n",
       "1     Recall    0.0\n",
       "2   F1-Score    0.0"
      ]
     },
     "metadata": {},
     "output_type": "display_data"
    }
   ],
   "source": [
    "if 'results_val' in locals():\n",
    "    # Print detailed results\n",
    "    benchmark.print_results(results_val)\n",
    "    \n",
    "    # Create a summary DataFrame for easier analysis\n",
    "    summary_data = {\n",
    "        'Metric': ['Precision', 'Recall', 'F1-Score'],\n",
    "        'Value': [\n",
    "            results_val['overall_precision'],\n",
    "            results_val['overall_recall'],\n",
    "            results_val['overall_f1_score']\n",
    "        ]\n",
    "    }\n",
    "    \n",
    "    df_summary = pd.DataFrame(summary_data)\n",
    "    display(df_summary)\n",
    "else:\n",
    "    print(\"No validation results available\")"
   ]
  },
  {
   "cell_type": "markdown",
   "id": "f9e25251",
   "metadata": {},
   "source": [
    "## Example 2: Benchmark on All Data (Train + Validation)\n",
    "\n",
    "This demonstrates using the combined dataset mode, useful when the model wasn't trained on any of the data."
   ]
  },
  {
   "cell_type": "code",
   "execution_count": 7,
   "id": "9c3311e4",
   "metadata": {},
   "outputs": [
    {
     "name": "stdout",
     "output_type": "stream",
     "text": [
      "Model or dataset not defined\n"
     ]
    }
   ],
   "source": [
    "if 'model_name' in locals() and 'dataset_name' in locals():\n",
    "    print(f\"🔍 Running benchmark on all data (train + validation)...\")\n",
    "    print(f\"Model: {model_name}\")\n",
    "    print(f\"Dataset: {dataset_name}\")\n",
    "    print(f\"Mode: all (train + validation)\")\n",
    "    \n",
    "    # Run benchmark on all data\n",
    "    results_all = benchmark.run_benchmark(\n",
    "        model_name=model_name,\n",
    "        dataset_name=dataset_name,\n",
    "        mode=\"all\",\n",
    "        conf_threshold=0.5,\n",
    "        iou_threshold=0.5\n",
    "    )\n",
    "    \n",
    "    print(\"Benchmark completed!\")\n",
    "    \n",
    "else:\n",
    "    print(\"Model or dataset not defined\")"
   ]
  },
  {
   "cell_type": "markdown",
   "id": "9a157ac9",
   "metadata": {},
   "source": [
    "## Display results"
   ]
  },
  {
   "cell_type": "code",
   "execution_count": 1,
   "id": "3abc6bc7",
   "metadata": {},
   "outputs": [
    {
     "name": "stdout",
     "output_type": "stream",
     "text": [
      "No validation results available\n"
     ]
    }
   ],
   "source": [
    "if 'results_val' in locals():\n",
    "    # Print detailed results\n",
    "    benchmark.print_results(results_val)\n",
    "    \n",
    "    # Create a summary DataFrame for easier analysis\n",
    "    summary_data = {\n",
    "        'Metric': ['Precision', 'Recall', 'F1-Score'],\n",
    "        'Value': [\n",
    "            results_val['overall_precision'],\n",
    "            results_val['overall_recall'],\n",
    "            results_val['overall_f1_score']\n",
    "        ]\n",
    "    }\n",
    "    \n",
    "    df_summary = pd.DataFrame(summary_data)\n",
    "    display(df_summary)\n",
    "else:\n",
    "    print(\"No validation results available\")"
   ]
  },
  {
   "cell_type": "markdown",
   "id": "b24c2c59",
   "metadata": {},
   "source": [
    "## Compare Validation vs All Data Results"
   ]
  },
  {
   "cell_type": "code",
   "execution_count": null,
   "id": "3ce80cad",
   "metadata": {},
   "outputs": [],
   "source": [
    "if 'results_val' in locals() and 'results_all' in locals():\n",
    "    # Create comparison DataFrame\n",
    "    comparison_data = {\n",
    "        'Mode': ['Validation Only', 'All Data'],\n",
    "        'Images': [results_val['total_images'], results_all['total_images']],\n",
    "        'Ground Truth': [results_val['total_ground_truth'], results_all['total_ground_truth']],\n",
    "        'Detections': [results_val['total_detections'], results_all['total_detections']],\n",
    "        'Correct': [results_val['total_correct'], results_all['total_correct']],\n",
    "        'Precision': [results_val['overall_precision'], results_all['overall_precision']],\n",
    "        'Recall': [results_val['overall_recall'], results_all['overall_recall']],\n",
    "        'F1-Score': [results_val['overall_f1_score'], results_all['overall_f1_score']]\n",
    "    }\n",
    "    \n",
    "    df_comparison = pd.DataFrame(comparison_data)\n",
    "    display(df_comparison)\n",
    "    \n",
    "    # Visualize the comparison\n",
    "    fig, axes = plt.subplots(2, 2, figsize=(15, 12))\n",
    "    fig.suptitle(f'Model Performance Comparison: {model_name} on {dataset_name}', fontsize=16)\n",
    "    \n",
    "    # [Add visualization code here - I can provide the full code if needed]\n",
    "    \n",
    "    plt.tight_layout()\n",
    "    plt.show()\n",
    "    \n",
    "else:\n",
    "    print(\"❌ Both validation and all-data results are needed for comparison\")"
   ]
  },
  {
   "cell_type": "markdown",
   "id": "95a08a19",
   "metadata": {},
   "source": [
    "## Generate Summary Report"
   ]
  },
  {
   "cell_type": "code",
   "execution_count": null,
   "id": "64f8e24c",
   "metadata": {},
   "outputs": [],
   "source": [
    "# Generate summary report\n",
    "if hasattr(benchmark, 'results') and benchmark.results:\n",
    "    print(\"�� Generating Summary Report...\")\n",
    "    benchmark.generate_summary_report()\n",
    "    \n",
    "    # Also show as a DataFrame\n",
    "    summary_data = []\n",
    "    for key, result in benchmark.results.items():\n",
    "        summary_data.append({\n",
    "            'Model': Path(result['model_path']).stem,\n",
    "            'Dataset': result['dataset_name'],\n",
    "            'Mode': result['mode'],\n",
    "            'Images': result['total_images'],\n",
    "            'Precision': f\"{result['overall_precision']:.4f}\",\n",
    "            'Recall': f\"{result['overall_recall']:.4f}\",\n",
    "            'F1-Score': f\"{result['overall_f1_score']:.4f}\"\n",
    "        })\n",
    "    \n",
    "    df_summary = pd.DataFrame(summary_data)\n",
    "    display(df_summary)\n",
    "    \n",
    "else:\n",
    "    print(\"❌ No benchmark results available for summary\")"
   ]
  }
 ],
 "metadata": {
  "kernelspec": {
   "display_name": "venv",
   "language": "python",
   "name": "python3"
  },
  "language_info": {
   "codemirror_mode": {
    "name": "ipython",
    "version": 3
   },
   "file_extension": ".py",
   "mimetype": "text/x-python",
   "name": "python",
   "nbconvert_exporter": "python",
   "pygments_lexer": "ipython3",
   "version": "3.13.5"
  }
 },
 "nbformat": 4,
 "nbformat_minor": 5
}
